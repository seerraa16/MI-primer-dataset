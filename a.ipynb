{
 "cells": [
  {
   "attachments": {},
   "cell_type": "markdown",
   "metadata": {},
   "source": [
    "# PERDIDOS EN EL ESPACIO\n",
    "## Breve descricion; Este problema trata de saber donde se encuentra una nave teniendo un dataset donde se incluye la distancia y el tiempo que tarda una pelota en recorrerla"
   ]
  }
 ],
 "metadata": {
  "language_info": {
   "name": "python"
  },
  "orig_nbformat": 4
 },
 "nbformat": 4,
 "nbformat_minor": 2
}
