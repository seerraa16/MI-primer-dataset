{
 "cells": [
  {
   "attachments": {},
   "cell_type": "markdown",
   "metadata": {},
   "source": [
    "# PERDIDOS EN EL ESPACIO\n",
    "## Breve descricion; Este problema trata de saber donde se encuentra una nave teniendo un dataset donde se incluye la distancia y el tiempo que tarda una pelota en recorrerla."
   ]
  },
  {
   "cell_type": "code",
   "execution_count": null,
   "metadata": {},
   "outputs": [],
   "source": [
    "# Todas las importaciones necesarias\n",
    "import random #importamos random para que se generern datos aleatorios\n",
    "import pandas as pd #importamos los pandas para poder jugar con los datos\n",
    "import numpy as np #importamos numpu para hacer calculos matematicos\n",
    "import matplotlib.pyplot as plt #al importar matplotlib, podemos crear graficas\n",
    "from faker import Faker #faker es una libreria que nos ayuda a emular datos\n",
    "from sklearn.preprocessing import LabelEncoder \n",
    "\n",
    "fake = Faker()"
   ]
  }
 ],
 "metadata": {
  "kernelspec": {
   "display_name": "base",
   "language": "python",
   "name": "python3"
  },
  "language_info": {
   "name": "python",
   "version": "3.10.9"
  },
  "orig_nbformat": 4
 },
 "nbformat": 4,
 "nbformat_minor": 2
}
